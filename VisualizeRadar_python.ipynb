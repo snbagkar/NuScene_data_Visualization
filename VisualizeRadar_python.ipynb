{
 "cells": [
  {
   "cell_type": "code",
   "execution_count": 19,
   "id": "based-video",
   "metadata": {},
   "outputs": [
    {
     "name": "stdout",
     "output_type": "stream",
     "text": [
      "[[  8.19999981   5.30000019   0.         ...   1.          17.\n",
      "    3.        ]\n",
      " [  9.60000038   4.30000019   0.         ...   1.          16.\n",
      "    3.        ]\n",
      " [ 10.80000019   4.5          0.         ...   1.          16.\n",
      "    3.        ]\n",
      " ...\n",
      " [ 75.80000305   9.5          0.         ...   1.          16.\n",
      "    3.        ]\n",
      " [ 81.19999695   8.5          0.         ...   1.          16.\n",
      "    3.        ]\n",
      " [ 80.40000153 -21.89999962   0.         ...   1.          16.\n",
      "    3.        ]]\n"
     ]
    }
   ],
   "source": [
    "import open3d as o3d\n",
    "import numpy as np\n",
    "from data_classes import RadarPointCloud\n",
    "pcd_name='/home/sid/data/sets/samples/RADAR_FRONT/n015-2018-07-24-11-22-45+0800__RADAR_FRONT__1532402927664178.pcd'\n",
    "\n",
    "scan=np.fromfile(pcd_name, dtype=np.float32)\n",
    "obj= RadarPointCloud.from_file('/home/sid/data/sets/samples/RADAR_FRONT/n015-2018-07-24-11-22-45+0800__RADAR_FRONT__1532402927664178.pcd')\n",
    "points= obj.points\n",
    "points = obj.points.T\n",
    "color = np.zeros([len(points), 3])\n",
    "pcd = o3d.geometry.PointCloud()\n",
    "pcd.points = o3d.utility.Vector3dVector(points[:, :3])\n",
    "color[:, 0] = 1\n",
    "color[:, 1] = 1\n",
    "color[:, 2] = 0.\n",
    "print(points)\n",
    "pcd.colors = o3d.utility.Vector3dVector(color)\n",
    "o3d.visualization.draw_geometries([pcd]) \n"
   ]
  },
  {
   "cell_type": "code",
   "execution_count": 25,
   "id": "demographic-protest",
   "metadata": {},
   "outputs": [
    {
     "name": "stdout",
     "output_type": "stream",
     "text": [
      "[[  8.19999981   5.30000019   0.         ...   1.          17.\n",
      "    3.        ]\n",
      " [  9.60000038   4.30000019   0.         ...   1.          16.\n",
      "    3.        ]\n",
      " [ 10.80000019   4.5          0.         ...   1.          16.\n",
      "    3.        ]\n",
      " ...\n",
      " [ 75.80000305   9.5          0.         ...   1.          16.\n",
      "    3.        ]\n",
      " [ 81.19999695   8.5          0.         ...   1.          16.\n",
      "    3.        ]\n",
      " [ 80.40000153 -21.89999962   0.         ...   1.          16.\n",
      "    3.        ]]\n"
     ]
    }
   ],
   "source": [
    "import open3d as o3d\n",
    "import numpy as np\n",
    "from data_classes import RadarPointCloud\n",
    "pcd_name='/home/sid/data/sets/samples/RADAR_FRONT/n015-2018-07-24-11-22-45+0800__RADAR_FRONT__1532402927664178.pcd'\n",
    "\n",
    "scan=np.fromfile(pcd_name, dtype=np.float32)\n",
    "obj= RadarPointCloud.from_file('/home/sid/data/sets/samples/RADAR_FRONT/n015-2018-07-24-11-22-45+0800__RADAR_FRONT__1532402927664178.pcd')\n",
    "points= obj.points\n",
    "points = obj.points.T\n",
    "color = np.zeros([len(points), 3])\n",
    "pcd = o3d.geometry.PointCloud()\n",
    "pcd.points = o3d.utility.Vector3dVector(points[:, :3])\n",
    "color[:, 0] = 0.5\n",
    "color[:, 1] = points[:,2]\n",
    "color[:, 2] = 0.5\n",
    "print(points)\n",
    "pcd.colors = o3d.utility.Vector3dVector(color)\n",
    "o3d.visualization.draw_geometries([pcd]) "
   ]
  },
  {
   "cell_type": "code",
   "execution_count": 76,
   "id": "informative-resistance",
   "metadata": {},
   "outputs": [],
   "source": [
    "import open3d as o3d\n",
    "import numpy as np\n",
    "from data_classes import RadarPointCloud\n",
    "pcd_name='/home/sid/data/sets/samples/RADAR_FRONT/n015-2018-07-24-11-22-45+0800__RADAR_FRONT__1532402927664178.pcd'\n",
    "\n",
    "scan=np.fromfile(pcd_name, dtype=np.float32)\n",
    "obj= RadarPointCloud.from_file('/home/sid/data/sets/samples/RADAR_FRONT/n015-2018-07-24-11-22-45+0800__RADAR_FRONT__1532402927664178.pcd')\n",
    "points= obj.points\n",
    "points = obj.points.T\n",
    "color = np.zeros([len(points), 3])\n",
    "pcd = o3d.geometry.PointCloud()\n",
    "pcd.points = o3d.utility.Vector3dVector(points[:, :3])\n",
    "vel_x = abs(points[:,6])\n",
    "vel_y = abs(points[:,7])\n",
    "color[:, 0] = vel_x\n",
    "color[:, 1] = 0\n",
    "color[:, 2] = vel_y\n",
    "pcd.colors = o3d.utility.Vector3dVector(color)\n",
    "o3d.visualization.draw_geometries([pcd]) "
   ]
  },
  {
   "cell_type": "code",
   "execution_count": null,
   "id": "continent-march",
   "metadata": {},
   "outputs": [],
   "source": []
  }
 ],
 "metadata": {
  "kernelspec": {
   "display_name": "Python 3",
   "language": "python",
   "name": "python3"
  },
  "language_info": {
   "codemirror_mode": {
    "name": "ipython",
    "version": 3
   },
   "file_extension": ".py",
   "mimetype": "text/x-python",
   "name": "python",
   "nbconvert_exporter": "python",
   "pygments_lexer": "ipython3",
   "version": "3.6.9"
  }
 },
 "nbformat": 4,
 "nbformat_minor": 5
}
