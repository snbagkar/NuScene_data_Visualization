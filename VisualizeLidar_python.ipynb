{
 "cells": [
  {
   "cell_type": "code",
   "execution_count": 16,
   "id": "inner-garbage",
   "metadata": {},
   "outputs": [
    {
     "name": "stdout",
     "output_type": "stream",
     "text": [
      "/home/sid/data/sets/samples/LIDAR_TOP/n008-2018-08-28-16-43-51-0400__LIDAR_TOP__1535489296047917.pcd.bin\n",
      "(172000,)\n",
      "[[ 0.03125    -0.06875     0.13124999]\n",
      " [ 0.03125    -0.06875     0.13124999]\n",
      " [ 0.03125    -0.06875     0.13124999]\n",
      " ...\n",
      " [ 0.1875      0.0875      0.28749999]\n",
      " [ 0.09375    -0.00625     0.19374999]\n",
      " [ 1.3125      1.21249998  1.41250002]]\n",
      "[[ -0.46375105   0.02599042  -0.27544802]\n",
      " [ -2.50860596   0.14160646  -1.41172695]\n",
      " [ -2.46654415   0.14006428  -1.31359327]\n",
      " ...\n",
      " [-21.57385063   0.06398946   3.03202438]\n",
      " [-21.52137566   0.06763607   3.53584981]\n",
      " [-21.52715302   0.07517076   4.05594397]]\n"
     ]
    }
   ],
   "source": [
    "import open3d as o3d\n",
    "import numpy as np\n",
    "\n",
    "seg_name='/home/sid/data/sets/nuscenes/lidarseg/v1.0-mini/4484110755904050a880043268149497_lidarseg.bin'\n",
    "seg=np.fromfile(seg_name, dtype=np.uint8)\n",
    "print(seg_name)\n",
    "color = np.zeros([len(seg), 3])\n",
    "color[:, 0] = seg/32\n",
    "color[:, 1] = seg/32\n",
    "color[:, 2] = seg/32\n",
    "\n",
    "pcd_name='/home/sid/data/sets/samples/LIDAR_TOP/n008-2018-08-28-16-43-51-0400__LIDAR_TOP__1535489296047917.pcd.bin'\n",
    "print(pcd_name)\n",
    "scan=np.fromfile(pcd_name, dtype=np.float32)\n",
    "points = scan.reshape((-1, 5))[:, :4]\n",
    "\n",
    "pcd = o3d.geometry.PointCloud()\n",
    "pcd.points = o3d.utility.Vector3dVector(points[:, :3])\n",
    "#pcd.colors = o3d.utility.Vector3dVector(color)\n",
    "print(np.asarray(pcd.points))\n",
    "o3d.visualization.draw_geometries([pcd])"
   ]
  },
  {
   "cell_type": "code",
   "execution_count": null,
   "id": "blind-masters",
   "metadata": {},
   "outputs": [],
   "source": [
    "import open3d as o3d\n",
    "import numpy as np\n",
    "pcd_name='/home/sid/data/sets/samples/LIDAR_TOP/n008-2018-08-28-16-43-51-0400__LIDAR_TOP__1535489296047917.pcd.bin'\n",
    "print(pcd_name)\n",
    "scan=np.fromfile(pcd_name, dtype=np.float32)\n",
    "print(scan.shape)\n",
    "points = scan.reshape((-1, 5))[:, :4]\n",
    "intens = abs(points[:,3])\n",
    "color = np.zeros([len(intens), 3])\n",
    "color[:, 0] = intens/32\n",
    "color[:, 1] = intens/32 - 0.1\n",
    "color[:, 2] = intens/32 + 0.1\n",
    "\n",
    "print(color)\n",
    "\n",
    "\n",
    "pcd = o3d.geometry.PointCloud()\n",
    "pcd.points = o3d.utility.Vector3dVector(points[:, :3])\n",
    "pcd.colors = o3d.utility.Vector3dVector(color)\n",
    "print(np.asarray(pcd.points))\n",
    "o3d.visualization.draw_geometries([pcd])"
   ]
  },
  {
   "cell_type": "code",
   "execution_count": null,
   "id": "super-nomination",
   "metadata": {},
   "outputs": [],
   "source": [
    "import open3d as o3d\n",
    "import numpy as np\n",
    "pcd_name='/home/sid/data/sets/samples/LIDAR_TOP/n008-2018-08-28-16-43-51-0400__LIDAR_TOP__1535489296047917.pcd.bin'\n",
    "print(pcd_name)\n",
    "scan=np.fromfile(pcd_name, dtype=np.float32)\n",
    "print(scan.shape)\n",
    "points = scan.reshape((-1, 5))[:, :4]\n",
    "intens = points[:,3]\n",
    "height = abs(points[:,2])\n",
    "\n",
    "color = np.zeros([len(intens), 3])\n",
    "color[:, 0] = height/10\n",
    "color[:, 1] = height/10 - 0.1\n",
    "color[:, 2] = height/10 - 0.3\n",
    "\n",
    "print(color)\n",
    "\n",
    "pcd = o3d.geometry.PointCloud()\n",
    "pcd.points = o3d.utility.Vector3dVector(points[:, :3])\n",
    "pcd.colors = o3d.utility.Vector3dVector(color)\n",
    "print(np.asarray(pcd.points))\n",
    "o3d.visualization.draw_geometries([pcd])"
   ]
  },
  {
   "cell_type": "code",
   "execution_count": 18,
   "id": "alert-synthetic",
   "metadata": {},
   "outputs": [
    {
     "name": "stdout",
     "output_type": "stream",
     "text": [
      "/home/sid/data/sets/nuscenes/lidarseg/v1.0-mini/4484110755904050a880043268149497_lidarseg.bin\n",
      "/home/sid/data/sets/samples/LIDAR_TOP/n008-2018-08-28-16-43-51-0400__LIDAR_TOP__1535489296047917.pcd.bin\n",
      "[[ -0.46375105   0.02599042  -0.27544802]\n",
      " [ -2.50860596   0.14160646  -1.41172695]\n",
      " [ -2.46654415   0.14006428  -1.31359327]\n",
      " ...\n",
      " [-21.57385063   0.06398946   3.03202438]\n",
      " [-21.52137566   0.06763607   3.53584981]\n",
      " [-21.52715302   0.07517076   4.05594397]]\n"
     ]
    }
   ],
   "source": [
    "import open3d as o3d\n",
    "import numpy as np\n",
    "\n",
    "seg_name='/home/sid/data/sets/nuscenes/lidarseg/v1.0-mini/4484110755904050a880043268149497_lidarseg.bin'\n",
    "seg=np.fromfile(seg_name, dtype=np.uint8)\n",
    "print(seg_name)\n",
    "color = np.zeros([len(seg), 3])\n",
    "color[:, 0] = seg/32\n",
    "color[:, 1] = seg/32\n",
    "color[:, 2] = seg/32\n",
    "\n",
    "pcd_name='/home/sid/data/sets/samples/LIDAR_TOP/n008-2018-08-28-16-43-51-0400__LIDAR_TOP__1535489296047917.pcd.bin'\n",
    "print(pcd_name)\n",
    "scan=np.fromfile(pcd_name, dtype=np.float32)\n",
    "points = scan.reshape((-1, 5))[:, :4]\n",
    "\n",
    "pcd = o3d.geometry.PointCloud()\n",
    "pcd.points = o3d.utility.Vector3dVector(points[:, :3])\n",
    "pcd.colors = o3d.utility.Vector3dVector(color)\n",
    "print(np.asarray(pcd.points))\n",
    "o3d.visualization.draw_geometries([pcd])"
   ]
  },
  {
   "cell_type": "code",
   "execution_count": null,
   "id": "acknowledged-benjamin",
   "metadata": {},
   "outputs": [],
   "source": []
  }
 ],
 "metadata": {
  "kernelspec": {
   "display_name": "Python 3",
   "language": "python",
   "name": "python3"
  },
  "language_info": {
   "codemirror_mode": {
    "name": "ipython",
    "version": 3
   },
   "file_extension": ".py",
   "mimetype": "text/x-python",
   "name": "python",
   "nbconvert_exporter": "python",
   "pygments_lexer": "ipython3",
   "version": "3.6.9"
  }
 },
 "nbformat": 4,
 "nbformat_minor": 5
}
